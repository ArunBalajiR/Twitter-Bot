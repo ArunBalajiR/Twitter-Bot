{
 "cells": [
  {
   "cell_type": "code",
   "execution_count": 24,
   "metadata": {},
   "outputs": [
    {
     "name": "stdout",
     "output_type": "stream",
     "text": [
      "{'534344324': {'tweet_id': 123, 'posted_on': 'today'}, '51106326598': {'tweet_id': 2323, 'posted_on': 'justnow'}}\n",
      "{'534344324': {'tweet_id': 123, 'posted_on': 'today'}, '51106326598': {'tweet_id': 2323, 'posted_on': 'justnow'}}\n"
     ]
    }
   ],
   "source": [
    "import json\n",
    "with open(\"posted.json\", \"r\") as jsonFile:\n",
    "    data = json.load(jsonFile)\n",
    "    print(data)\n",
    "\n",
    "\n",
    "\n",
    "data[\"534344324\"] =  {'tweet_id': 123, 'posted_on': 'today'}\n",
    "\n"
   ]
  },
  {
   "cell_type": "code",
   "execution_count": 3,
   "metadata": {},
   "outputs": [],
   "source": [
    "chosen =   {\n",
    "    \"id\": \"50742950497\",\n",
    "    \"owner\": \"191258271@N04\",\n",
    "    \"secret\": \"0fc8ee5a4e\",\n",
    "    \"server\": \"65535\",\n",
    "    \"farm\": 66,\n",
    "    \"title\": \"BREAKING BAD [ TV Series ]\",\n",
    "    \"ispublic\": 1,\n",
    "    \"isfriend\": 0,\n",
    "    \"isfamily\": 0,\n",
    "    \"description\": {\n",
    "      \"_content\": \"\"\n",
    "    },\n",
    "    \"ownername\": \"kamalvmpt\",\n",
    "    \"url_o\": \"https://live.staticflickr.com/65535/50742950497_fa5bf7771c_o.jpg\",\n",
    "    \"height_o\": 1919,\n",
    "    \"width_o\": 3840\n",
    "  }\n",
    "  "
   ]
  },
  {
   "cell_type": "code",
   "execution_count": 26,
   "metadata": {},
   "outputs": [
    {
     "name": "stdout",
     "output_type": "stream",
     "text": [
      "50742950497\n"
     ]
    }
   ],
   "source": [
    "print(chosen[\"id\"])"
   ]
  },
  {
   "cell_type": "code",
   "execution_count": 38,
   "metadata": {},
   "outputs": [
    {
     "name": "stdout",
     "output_type": "stream",
     "text": [
      "50742950497\n",
      "True\n",
      "True\n"
     ]
    }
   ],
   "source": [
    "with open(\"posted.json\", \"r\") as jsonFile:\n",
    "    data = json.load(jsonFile)\n",
    "    print(str(chosen[\"id\"]))\n",
    "    print(str(chosen[\"id\"]) in data)\n",
    "    print(str(534344324) in data)\n"
   ]
  },
  {
   "cell_type": "code",
   "execution_count": 35,
   "metadata": {},
   "outputs": [],
   "source": [
    "data[chosen[\"id\"]] =  {'tweet_id': 123, 'posted_on': 'today'}"
   ]
  },
  {
   "cell_type": "code",
   "execution_count": 36,
   "metadata": {},
   "outputs": [
    {
     "name": "stdout",
     "output_type": "stream",
     "text": [
      "{'534344324': {'tweet_id': 123, 'posted_on': 'today'}, '51106326598': {'tweet_id': 2323, 'posted_on': 'justnow'}, '50742950497': {'tweet_id': 123, 'posted_on': 'today'}}\n"
     ]
    }
   ],
   "source": [
    "with open(\"posted.json\", \"w\") as jsonFile:\n",
    "    json.dump(data, jsonFile)\n",
    "    print(data)\n",
    "  "
   ]
  },
  {
   "cell_type": "code",
   "execution_count": 1,
   "metadata": {},
   "outputs": [],
   "source": [
    "twitterHandle = {\n",
    "    \"kamalvmpt\" : \"@Retouch_Gallery\",\n",
    "    \"kamalvijay32\" : \"@KamalOfcl\",\n",
    "    \"rockybhai369offl\" : \"@RockybhaiOffcl\",\n",
    "    \"nikhilab1511\":\"@Nikhil_Ofcl\",\n",
    "    \"KeshhFlix\":\"@ItzKeshh\",\n",
    "    \"ivineimmanuel0611\" : \"@IvineImmanuel\",\n",
    "    \"deepakppvfc6\":\"@_DR_Designs\",\n",
    "    \"Rakhi\\u30c4\":\"@rakesh_tarakian\",\n",
    "    \"suryasandy13\":\"@TroyboiS\",\n",
    "    \"evilhari664\":\"@Hariis87937166\",\n",
    "    \"ItsAnbuchelvan\":\"@itsanbuchelvan\",\n",
    "    \"Dark Rum Pintrest\":\"@DarkRumPintrest\",\n",
    "    \"Prinz_ram\":\"@itzram73\"\n",
    "}    \n"
   ]
  },
  {
   "cell_type": "code",
   "execution_count": 5,
   "metadata": {},
   "outputs": [
    {
     "data": {
      "text/plain": [
       "'@Retouch_Gallery'"
      ]
     },
     "execution_count": 5,
     "metadata": {},
     "output_type": "execute_result"
    }
   ],
   "source": [
    "twitterHandle[chosen['ownername']]"
   ]
  },
  {
   "cell_type": "code",
   "execution_count": 1,
   "metadata": {},
   "outputs": [
    {
     "name": "stdout",
     "output_type": "stream",
     "text": [
      " : Checking Picture '#Dhanush #JagameThandhiram'\n"
     ]
    }
   ],
   "source": [
    "import requests,random\n",
    "req = requests.get('https://raw.githubusercontent.com/ArunBalajiR/Twitter-Bot/de95af0ecfbca1feb490c683c2a1baa3a9eebcb1/photos_unposted.json?token=GHSAT0AAAAAABPQ2CL5CEMUTF3MQXQBOKZ6YRZTHKA')\n",
    "picsToPost = req.json()\n",
    "chosenPicture = random.choice(picsToPost)\n",
    "print(f\" : Checking Picture '{chosenPicture['title']}'\")\n",
    "response = requests.get(chosenPicture['url_o'], stream=True)"
   ]
  },
  {
   "cell_type": "code",
   "execution_count": 3,
   "metadata": {},
   "outputs": [],
   "source": [
    "twitterHandle = {\n",
    "    \"kamalvmpt\" : \"@Retouch_Gallery\",\n",
    "    \"kamalvijay32\" : \"@KamalOfcl\",\n",
    "    \"rockybhai369offl\" : \"@RockybhaiOffcl\",\n",
    "    \"nikhilab1511\":\"@Nikhil_Ofcl\",\n",
    "    \"KeshhFlix\":\"@ItzKeshh\",\n",
    "    \"ivineimmanuel0611\" : \"@Ivine2255\",\n",
    "    \"deepakppvfc6\":\"@_DR_Designs\",\n",
    "    \"Rakhi\\u30c4\":\"@rakesh_tarakian\",\n",
    "    \"suryasandy13\":\"@TroyboiS\",\n",
    "    \"evilhari664\":\"@Hariis87937166\",\n",
    "    \"ItsAnbuchelvan\":\"@itsanbuchelvan\",\n",
    "    \"Dark Rum Pintrest\":\"@DarkRrum\",\n",
    "    \"Prinz_ram\":\"@itzram73\",\n",
    "    \"athulkrishnan884\":\"@athulkrishnanvf\",\n",
    "    \"kannanrishu\" : \"@Rishi_Touches\",\n",
    "    \"Ebi Suriya\" : \"@EbiSuriya\",\n",
    "    \"deepakppvfc6\" : \"@_Deepthy_\",\n",
    "    \"Retouch_Crew\" : \"@Retouch_Crew\",\n",
    "\n",
    "}    \n"
   ]
  },
  {
   "cell_type": "code",
   "execution_count": 4,
   "metadata": {},
   "outputs": [],
   "source": [
    "tweet = f\"{chosenPicture['title']} \\n\\nImage By {twitterHandle[chosenPicture['ownername']]}\\n\\n\\nHD Link : https://onelink.to/reflix\\n\\n#ReFlix\""
   ]
  },
  {
   "cell_type": "code",
   "execution_count": 5,
   "metadata": {},
   "outputs": [
    {
     "data": {
      "text/plain": [
       "'#Dhanush #JagameThandhiram \\n\\nImage By @TroyboiS\\n\\n\\nHD Link : https://onelink.to/reflix\\n\\n#ReFlix'"
      ]
     },
     "execution_count": 5,
     "metadata": {},
     "output_type": "execute_result"
    }
   ],
   "source": [
    "tweet"
   ]
  },
  {
   "cell_type": "code",
   "execution_count": 6,
   "metadata": {},
   "outputs": [],
   "source": [
    "tweett = f\"{chosenPicture['title']} \\n\\nImage By {twitterHandle.get(chosenPicture['ownername'],chosenPicture['ownername'])}\\n\\n\\nHD Download Link : {chosenPicture['url_o']}\""
   ]
  },
  {
   "cell_type": "code",
   "execution_count": 7,
   "metadata": {},
   "outputs": [
    {
     "data": {
      "text/plain": [
       "'#Dhanush #JagameThandhiram \\n\\nImage By @TroyboiS\\n\\n\\nHD Download Link : https://live.staticflickr.com/65535/51345828676_1168e24bc6_o.jpg'"
      ]
     },
     "execution_count": 7,
     "metadata": {},
     "output_type": "execute_result"
    }
   ],
   "source": [
    "tweett"
   ]
  },
  {
   "cell_type": "code",
   "execution_count": null,
   "metadata": {},
   "outputs": [],
   "source": []
  }
 ],
 "metadata": {
  "interpreter": {
   "hash": "ba87787c5183d78e0ba0e35a1caf0d0e32c964c54223674a8213240445d4ad79"
  },
  "kernelspec": {
   "display_name": "Python 3.10.0 64-bit",
   "language": "python",
   "name": "python3"
  },
  "language_info": {
   "codemirror_mode": {
    "name": "ipython",
    "version": 3
   },
   "file_extension": ".py",
   "mimetype": "text/x-python",
   "name": "python",
   "nbconvert_exporter": "python",
   "pygments_lexer": "ipython3",
   "version": "3.10.0"
  },
  "orig_nbformat": 4
 },
 "nbformat": 4,
 "nbformat_minor": 2
}
