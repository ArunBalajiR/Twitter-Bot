{
 "cells": [
  {
   "cell_type": "code",
   "execution_count": 24,
   "metadata": {},
   "outputs": [
    {
     "name": "stdout",
     "output_type": "stream",
     "text": [
      "{'534344324': {'tweet_id': 123, 'posted_on': 'today'}, '51106326598': {'tweet_id': 2323, 'posted_on': 'justnow'}}\n",
      "{'534344324': {'tweet_id': 123, 'posted_on': 'today'}, '51106326598': {'tweet_id': 2323, 'posted_on': 'justnow'}}\n"
     ]
    }
   ],
   "source": [
    "import json\n",
    "with open(\"posted.json\", \"r\") as jsonFile:\n",
    "    data = json.load(jsonFile)\n",
    "    print(data)\n",
    "\n",
    "\n",
    "\n",
    "data[\"534344324\"] =  {'tweet_id': 123, 'posted_on': 'today'}\n",
    "\n"
   ]
  },
  {
   "cell_type": "code",
   "execution_count": 22,
   "metadata": {},
   "outputs": [],
   "source": [
    "chosen =   {\n",
    "    \"id\": \"50742950497\",\n",
    "    \"owner\": \"191258271@N04\",\n",
    "    \"secret\": \"0fc8ee5a4e\",\n",
    "    \"server\": \"65535\",\n",
    "    \"farm\": 66,\n",
    "    \"title\": \"BREAKING BAD [ TV Series ]\",\n",
    "    \"ispublic\": 1,\n",
    "    \"isfriend\": 0,\n",
    "    \"isfamily\": 0,\n",
    "    \"description\": {\n",
    "      \"_content\": \"\"\n",
    "    },\n",
    "    \"ownername\": \"kamalvmpt\",\n",
    "    \"url_o\": \"https://live.staticflickr.com/65535/50742950497_fa5bf7771c_o.jpg\",\n",
    "    \"height_o\": 1919,\n",
    "    \"width_o\": 3840\n",
    "  }\n",
    "  "
   ]
  },
  {
   "cell_type": "code",
   "execution_count": 26,
   "metadata": {},
   "outputs": [
    {
     "name": "stdout",
     "output_type": "stream",
     "text": [
      "50742950497\n"
     ]
    }
   ],
   "source": [
    "print(chosen[\"id\"])"
   ]
  },
  {
   "cell_type": "code",
   "execution_count": 38,
   "metadata": {},
   "outputs": [
    {
     "name": "stdout",
     "output_type": "stream",
     "text": [
      "50742950497\n",
      "True\n",
      "True\n"
     ]
    }
   ],
   "source": [
    "with open(\"posted.json\", \"r\") as jsonFile:\n",
    "    data = json.load(jsonFile)\n",
    "    print(str(chosen[\"id\"]))\n",
    "    print(str(chosen[\"id\"]) in data)\n",
    "    print(str(534344324) in data)\n"
   ]
  },
  {
   "cell_type": "code",
   "execution_count": 35,
   "metadata": {},
   "outputs": [],
   "source": [
    "data[chosen[\"id\"]] =  {'tweet_id': 123, 'posted_on': 'today'}"
   ]
  },
  {
   "cell_type": "code",
   "execution_count": 36,
   "metadata": {},
   "outputs": [
    {
     "name": "stdout",
     "output_type": "stream",
     "text": [
      "{'534344324': {'tweet_id': 123, 'posted_on': 'today'}, '51106326598': {'tweet_id': 2323, 'posted_on': 'justnow'}, '50742950497': {'tweet_id': 123, 'posted_on': 'today'}}\n"
     ]
    }
   ],
   "source": [
    "with open(\"posted.json\", \"w\") as jsonFile:\n",
    "    json.dump(data, jsonFile)\n",
    "    print(data)\n",
    "  "
   ]
  },
  {
   "cell_type": "code",
   "execution_count": null,
   "metadata": {},
   "outputs": [],
   "source": []
  }
 ],
 "metadata": {
  "interpreter": {
   "hash": "ba87787c5183d78e0ba0e35a1caf0d0e32c964c54223674a8213240445d4ad79"
  },
  "kernelspec": {
   "display_name": "Python 3.10.0 64-bit",
   "language": "python",
   "name": "python3"
  },
  "language_info": {
   "codemirror_mode": {
    "name": "ipython",
    "version": 3
   },
   "file_extension": ".py",
   "mimetype": "text/x-python",
   "name": "python",
   "nbconvert_exporter": "python",
   "pygments_lexer": "ipython3",
   "version": "3.10.0"
  },
  "orig_nbformat": 4
 },
 "nbformat": 4,
 "nbformat_minor": 2
}
